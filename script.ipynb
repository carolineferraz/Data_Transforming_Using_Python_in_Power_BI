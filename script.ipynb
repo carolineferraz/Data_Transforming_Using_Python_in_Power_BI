{
 "cells": [
  {
   "cell_type": "code",
   "execution_count": 7,
   "id": "1c71c0af",
   "metadata": {},
   "outputs": [
    {
     "name": "stdout",
     "output_type": "stream",
     "text": [
      "                          Tipo                Bairro  Quartos  Vagas  Suites  \\\n",
      "0                    Quitinete            Copacabana        1      0       0   \n",
      "1                         Casa       Jardim Botânico        2      0       1   \n",
      "2      Conjunto Comercial/Sala       Barra da Tijuca        0      4       0   \n",
      "3                  Apartamento                Centro        1      0       0   \n",
      "4                  Apartamento          Higienópolis        1      0       0   \n",
      "...                        ...                   ...      ...    ...     ...   \n",
      "32955                Quitinete                Centro        0      0       0   \n",
      "32956              Apartamento           Jacarepaguá        3      1       2   \n",
      "32957              Apartamento  São Francisco Xavier        2      1       0   \n",
      "32958              Apartamento                Leblon        2      0       0   \n",
      "32959  Conjunto Comercial/Sala                Centro        0      0       0   \n",
      "\n",
      "       Area   Valor  Condominio    IPTU  \n",
      "0        40  1700.0       500.0    60.0  \n",
      "1       100  7000.0         NaN     NaN  \n",
      "2       150  5200.0      4020.0  1111.0  \n",
      "3        15   800.0       390.0    20.0  \n",
      "4        48   800.0       230.0     NaN  \n",
      "...     ...     ...         ...     ...  \n",
      "32955    27   800.0       350.0    25.0  \n",
      "32956    78  1800.0       800.0    40.0  \n",
      "32957    48  1400.0       509.0    37.0  \n",
      "32958    70  3000.0       760.0     NaN  \n",
      "32959   250  6500.0      4206.0  1109.0  \n",
      "\n",
      "[32960 rows x 9 columns]\n"
     ]
    }
   ],
   "source": [
    "import pandas as pd\n",
    "df = pd.read_csv('C:/Users/Usuário/ipynb/Data_Transforming_Using_Python_in_Power_BI/dados.csv', sep = ';')\n",
    "print(df)"
   ]
  },
  {
   "cell_type": "code",
   "execution_count": null,
   "id": "861dad73",
   "metadata": {},
   "outputs": [],
   "source": []
  }
 ],
 "metadata": {
  "kernelspec": {
   "display_name": "Python 3 (ipykernel)",
   "language": "python",
   "name": "python3"
  },
  "language_info": {
   "codemirror_mode": {
    "name": "ipython",
    "version": 3
   },
   "file_extension": ".py",
   "mimetype": "text/x-python",
   "name": "python",
   "nbconvert_exporter": "python",
   "pygments_lexer": "ipython3",
   "version": "3.9.13"
  }
 },
 "nbformat": 4,
 "nbformat_minor": 5
}
